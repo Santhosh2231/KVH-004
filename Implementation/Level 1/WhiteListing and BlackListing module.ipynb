{
 "cells": [
  {
   "cell_type": "code",
   "execution_count": 1,
   "id": "02fcee66",
   "metadata": {},
   "outputs": [],
   "source": [
    "import pandas as pd"
   ]
  },
  {
   "cell_type": "code",
   "execution_count": 2,
   "id": "eaba4121",
   "metadata": {},
   "outputs": [],
   "source": [
    "black = pd.read_csv(\"D:\\\\Academics\\\\Kavach\\\\Implementation\\\\Level 1\\\\Blacklisted.csv\")"
   ]
  },
  {
   "cell_type": "code",
   "execution_count": 3,
   "id": "5592f4d4",
   "metadata": {},
   "outputs": [],
   "source": [
    "white = pd.read_csv(\"D:\\\\Academics\\\\Kavach\\\\Implementation\\\\Level 1\\\\whitelisted.csv\")"
   ]
  },
  {
   "cell_type": "code",
   "execution_count": 16,
   "id": "3ea58f3c",
   "metadata": {},
   "outputs": [],
   "source": [
    "test_data = \"https://google.com\""
   ]
  },
  {
   "cell_type": "code",
   "execution_count": 30,
   "id": "cd36cc41",
   "metadata": {},
   "outputs": [
    {
     "data": {
      "text/plain": [
       "True"
      ]
     },
     "execution_count": 30,
     "metadata": {},
     "output_type": "execute_result"
    }
   ],
   "source": [
    "exists = white.applymap(lambda x: test_data in str(x)).any().any()\n",
    "exists"
   ]
  },
  {
   "cell_type": "code",
   "execution_count": 18,
   "id": "b9df5874",
   "metadata": {},
   "outputs": [
    {
     "data": {
      "text/html": [
       "<div>\n",
       "<style scoped>\n",
       "    .dataframe tbody tr th:only-of-type {\n",
       "        vertical-align: middle;\n",
       "    }\n",
       "\n",
       "    .dataframe tbody tr th {\n",
       "        vertical-align: top;\n",
       "    }\n",
       "\n",
       "    .dataframe thead th {\n",
       "        text-align: right;\n",
       "    }\n",
       "</style>\n",
       "<table border=\"1\" class=\"dataframe\">\n",
       "  <thead>\n",
       "    <tr style=\"text-align: right;\">\n",
       "      <th></th>\n",
       "      <th>ID</th>\n",
       "      <th>Phish URL</th>\n",
       "      <th>Submitted</th>\n",
       "      <th>Valid?</th>\n",
       "      <th>Online?</th>\n",
       "    </tr>\n",
       "  </thead>\n",
       "  <tbody>\n",
       "    <tr>\n",
       "      <th>0</th>\n",
       "      <td>8088092</td>\n",
       "      <td>https://urlscan.io/result/1db17b92-be69-4dc3-8...</td>\n",
       "      <td>by shinya</td>\n",
       "      <td>INVALID</td>\n",
       "      <td>Offline</td>\n",
       "    </tr>\n",
       "    <tr>\n",
       "      <th>1</th>\n",
       "      <td>8088008</td>\n",
       "      <td>https://www.google.com.py/search?q=csgoskins</td>\n",
       "      <td>by Felix0101</td>\n",
       "      <td>INVALID</td>\n",
       "      <td>Offline</td>\n",
       "    </tr>\n",
       "    <tr>\n",
       "      <th>2</th>\n",
       "      <td>8082169</td>\n",
       "      <td>https://bvnegocios.banrural.com.gt/corp/pages/...</td>\n",
       "      <td>by lhernandez</td>\n",
       "      <td>INVALID</td>\n",
       "      <td>Offline</td>\n",
       "    </tr>\n",
       "    <tr>\n",
       "      <th>3</th>\n",
       "      <td>8079397</td>\n",
       "      <td>https://login.microsoftonline.com.office.prod....</td>\n",
       "      <td>by cleanmx</td>\n",
       "      <td>INVALID</td>\n",
       "      <td>Offline</td>\n",
       "    </tr>\n",
       "    <tr>\n",
       "      <th>4</th>\n",
       "      <td>8079396</td>\n",
       "      <td>http://login.microsoftonline.com.office.prod.a...</td>\n",
       "      <td>by cleanmx</td>\n",
       "      <td>INVALID</td>\n",
       "      <td>Offline</td>\n",
       "    </tr>\n",
       "    <tr>\n",
       "      <th>...</th>\n",
       "      <td>...</td>\n",
       "      <td>...</td>\n",
       "      <td>...</td>\n",
       "      <td>...</td>\n",
       "      <td>...</td>\n",
       "    </tr>\n",
       "    <tr>\n",
       "      <th>59995</th>\n",
       "      <td>1906575</td>\n",
       "      <td>http://www.twoo.com/?mtid=47&amp;login=1</td>\n",
       "      <td>by globusks</td>\n",
       "      <td>INVALID</td>\n",
       "      <td>Offline</td>\n",
       "    </tr>\n",
       "    <tr>\n",
       "      <th>59996</th>\n",
       "      <td>1906574</td>\n",
       "      <td>http://mail.twoo.com/mailurl/aT1nMC05ZjhqenUtN...</td>\n",
       "      <td>by globusks</td>\n",
       "      <td>INVALID</td>\n",
       "      <td>Offline</td>\n",
       "    </tr>\n",
       "    <tr>\n",
       "      <th>59997</th>\n",
       "      <td>1906476</td>\n",
       "      <td>http://thepiratebay.ee/torrent/6531051/WinAVI_...</td>\n",
       "      <td>by cleanmx</td>\n",
       "      <td>INVALID</td>\n",
       "      <td>Offline</td>\n",
       "    </tr>\n",
       "    <tr>\n",
       "      <th>59998</th>\n",
       "      <td>1906475</td>\n",
       "      <td>http://thepiratebay.ee/search/WinAVI%20Video%2...</td>\n",
       "      <td>by cleanmx</td>\n",
       "      <td>INVALID</td>\n",
       "      <td>Offline</td>\n",
       "    </tr>\n",
       "    <tr>\n",
       "      <th>59999</th>\n",
       "      <td>1906474</td>\n",
       "      <td>https://squareup.com/r/kawm5hnd6zyibz4v82_q</td>\n",
       "      <td>by cleanmx</td>\n",
       "      <td>INVALID</td>\n",
       "      <td>Offline</td>\n",
       "    </tr>\n",
       "  </tbody>\n",
       "</table>\n",
       "<p>60000 rows × 5 columns</p>\n",
       "</div>"
      ],
      "text/plain": [
       "            ID                                          Phish URL  \\\n",
       "0      8088092  https://urlscan.io/result/1db17b92-be69-4dc3-8...   \n",
       "1      8088008       https://www.google.com.py/search?q=csgoskins   \n",
       "2      8082169  https://bvnegocios.banrural.com.gt/corp/pages/...   \n",
       "3      8079397  https://login.microsoftonline.com.office.prod....   \n",
       "4      8079396  http://login.microsoftonline.com.office.prod.a...   \n",
       "...        ...                                                ...   \n",
       "59995  1906575               http://www.twoo.com/?mtid=47&login=1   \n",
       "59996  1906574  http://mail.twoo.com/mailurl/aT1nMC05ZjhqenUtN...   \n",
       "59997  1906476  http://thepiratebay.ee/torrent/6531051/WinAVI_...   \n",
       "59998  1906475  http://thepiratebay.ee/search/WinAVI%20Video%2...   \n",
       "59999  1906474        https://squareup.com/r/kawm5hnd6zyibz4v82_q   \n",
       "\n",
       "           Submitted   Valid?  Online?  \n",
       "0          by shinya  INVALID  Offline  \n",
       "1       by Felix0101  INVALID  Offline  \n",
       "2      by lhernandez  INVALID  Offline  \n",
       "3         by cleanmx  INVALID  Offline  \n",
       "4         by cleanmx  INVALID  Offline  \n",
       "...              ...      ...      ...  \n",
       "59995    by globusks  INVALID  Offline  \n",
       "59996    by globusks  INVALID  Offline  \n",
       "59997     by cleanmx  INVALID  Offline  \n",
       "59998     by cleanmx  INVALID  Offline  \n",
       "59999     by cleanmx  INVALID  Offline  \n",
       "\n",
       "[60000 rows x 5 columns]"
      ]
     },
     "execution_count": 18,
     "metadata": {},
     "output_type": "execute_result"
    }
   ],
   "source": [
    "white"
   ]
  },
  {
   "cell_type": "code",
   "execution_count": 8,
   "id": "eb31ec0d",
   "metadata": {},
   "outputs": [
    {
     "data": {
      "text/plain": [
       "['jnvejnevrj']"
      ]
     },
     "execution_count": 8,
     "metadata": {},
     "output_type": "execute_result"
    }
   ],
   "source": []
  },
  {
   "cell_type": "code",
   "execution_count": null,
   "id": "853ea328",
   "metadata": {},
   "outputs": [],
   "source": []
  }
 ],
 "metadata": {
  "kernelspec": {
   "display_name": "Python 3 (ipykernel)",
   "language": "python",
   "name": "python3"
  },
  "language_info": {
   "codemirror_mode": {
    "name": "ipython",
    "version": 3
   },
   "file_extension": ".py",
   "mimetype": "text/x-python",
   "name": "python",
   "nbconvert_exporter": "python",
   "pygments_lexer": "ipython3",
   "version": "3.9.7"
  }
 },
 "nbformat": 4,
 "nbformat_minor": 5
}
