{
 "cells": [
  {
   "cell_type": "markdown",
   "metadata": {
    "id": "JTokIB7wsVYk"
   },
   "source": [
    "## Libraries for the Project"
   ]
  },
  {
   "cell_type": "code",
   "execution_count": 43,
   "metadata": {
    "id": "ne7GGlUtnjUt"
   },
   "outputs": [],
   "source": [
    "#Required Libraries\n",
    "import pandas as pd\n",
    "import numpy as np\n",
    "\n",
    "import seaborn as sns\n",
    "import matplotlib.pyplot as plt\n",
    "%matplotlib inline\n",
    "\n",
    "from sklearn.linear_model import LogisticRegression\n",
    "from sklearn.naive_bayes import MultinomialNB\n",
    "from sklearn.model_selection import train_test_split\n",
    "from sklearn.metrics import classification_report\n",
    "from sklearn.metrics import confusion_matrix\n",
    "from sklearn.feature_extraction.text import CountVectorizer \n",
    "from sklearn.pipeline import make_pipeline\n",
    "\n",
    "from nltk.tokenize import RegexpTokenizer\n",
    "from nltk.stem.snowball import SnowballStemmer\n",
    "\n",
    "from PIL import Image\n",
    "import networkx as nx \n",
    "import pickle\n",
    "import joblib\n",
    "\n",
    "import warnings \n",
    "warnings.filterwarnings('ignore')"
   ]
  },
  {
   "cell_type": "markdown",
   "metadata": {
    "id": "DwcG6QuPGi8I"
   },
   "source": [
    "## Importing Dataset"
   ]
  },
  {
   "cell_type": "code",
   "execution_count": 44,
   "metadata": {
    "colab": {
     "base_uri": "https://localhost:8080/",
     "height": 206
    },
    "id": "1QZQWbXKpbJL",
    "outputId": "0cff23ad-cffb-41bb-c11b-67244249d18e"
   },
   "outputs": [
    {
     "data": {
      "text/html": [
       "<div>\n",
       "<style scoped>\n",
       "    .dataframe tbody tr th:only-of-type {\n",
       "        vertical-align: middle;\n",
       "    }\n",
       "\n",
       "    .dataframe tbody tr th {\n",
       "        vertical-align: top;\n",
       "    }\n",
       "\n",
       "    .dataframe thead th {\n",
       "        text-align: right;\n",
       "    }\n",
       "</style>\n",
       "<table border=\"1\" class=\"dataframe\">\n",
       "  <thead>\n",
       "    <tr style=\"text-align: right;\">\n",
       "      <th></th>\n",
       "      <th>URL</th>\n",
       "      <th>Label</th>\n",
       "    </tr>\n",
       "  </thead>\n",
       "  <tbody>\n",
       "    <tr>\n",
       "      <th>0</th>\n",
       "      <td>nobell.it/70ffb52d079109dca5664cce6f317373782/...</td>\n",
       "      <td>bad</td>\n",
       "    </tr>\n",
       "    <tr>\n",
       "      <th>1</th>\n",
       "      <td>www.dghjdgf.com/paypal.co.uk/cycgi-bin/webscrc...</td>\n",
       "      <td>bad</td>\n",
       "    </tr>\n",
       "    <tr>\n",
       "      <th>2</th>\n",
       "      <td>serviciosbys.com/paypal.cgi.bin.get-into.herf....</td>\n",
       "      <td>bad</td>\n",
       "    </tr>\n",
       "    <tr>\n",
       "      <th>3</th>\n",
       "      <td>mail.printakid.com/www.online.americanexpress....</td>\n",
       "      <td>bad</td>\n",
       "    </tr>\n",
       "    <tr>\n",
       "      <th>4</th>\n",
       "      <td>thewhiskeydregs.com/wp-content/themes/widescre...</td>\n",
       "      <td>bad</td>\n",
       "    </tr>\n",
       "  </tbody>\n",
       "</table>\n",
       "</div>"
      ],
      "text/plain": [
       "                                                 URL Label\n",
       "0  nobell.it/70ffb52d079109dca5664cce6f317373782/...   bad\n",
       "1  www.dghjdgf.com/paypal.co.uk/cycgi-bin/webscrc...   bad\n",
       "2  serviciosbys.com/paypal.cgi.bin.get-into.herf....   bad\n",
       "3  mail.printakid.com/www.online.americanexpress....   bad\n",
       "4  thewhiskeydregs.com/wp-content/themes/widescre...   bad"
      ]
     },
     "execution_count": 44,
     "metadata": {},
     "output_type": "execute_result"
    }
   ],
   "source": [
    "#dataset \n",
    "\n",
    "dataset_path = \"D:\\\\Academics\\\\Kavach\\\\Implementation\\\\Level 2\\\\malicious_url.csv\"\n",
    "\n",
    "malicious_data = pd.read_csv(dataset_path,encoding='latin1', error_bad_lines=False)\n",
    "malicious_data.head()\n"
   ]
  },
  {
   "cell_type": "code",
   "execution_count": 45,
   "metadata": {
    "colab": {
     "base_uri": "https://localhost:8080/",
     "height": 206
    },
    "id": "yY4ekoMmFS95",
    "outputId": "6eb9ad4b-83d8-4351-bf35-f8fb10b9f46e"
   },
   "outputs": [
    {
     "data": {
      "text/html": [
       "<div>\n",
       "<style scoped>\n",
       "    .dataframe tbody tr th:only-of-type {\n",
       "        vertical-align: middle;\n",
       "    }\n",
       "\n",
       "    .dataframe tbody tr th {\n",
       "        vertical-align: top;\n",
       "    }\n",
       "\n",
       "    .dataframe thead th {\n",
       "        text-align: right;\n",
       "    }\n",
       "</style>\n",
       "<table border=\"1\" class=\"dataframe\">\n",
       "  <thead>\n",
       "    <tr style=\"text-align: right;\">\n",
       "      <th></th>\n",
       "      <th>URL</th>\n",
       "      <th>Label</th>\n",
       "    </tr>\n",
       "  </thead>\n",
       "  <tbody>\n",
       "    <tr>\n",
       "      <th>549341</th>\n",
       "      <td>23.227.196.215/</td>\n",
       "      <td>bad</td>\n",
       "    </tr>\n",
       "    <tr>\n",
       "      <th>549342</th>\n",
       "      <td>apple-checker.org/</td>\n",
       "      <td>bad</td>\n",
       "    </tr>\n",
       "    <tr>\n",
       "      <th>549343</th>\n",
       "      <td>apple-iclods.org/</td>\n",
       "      <td>bad</td>\n",
       "    </tr>\n",
       "    <tr>\n",
       "      <th>549344</th>\n",
       "      <td>apple-uptoday.org/</td>\n",
       "      <td>bad</td>\n",
       "    </tr>\n",
       "    <tr>\n",
       "      <th>549345</th>\n",
       "      <td>apple-search.info</td>\n",
       "      <td>bad</td>\n",
       "    </tr>\n",
       "  </tbody>\n",
       "</table>\n",
       "</div>"
      ],
      "text/plain": [
       "                       URL Label\n",
       "549341     23.227.196.215/   bad\n",
       "549342  apple-checker.org/   bad\n",
       "549343   apple-iclods.org/   bad\n",
       "549344  apple-uptoday.org/   bad\n",
       "549345   apple-search.info   bad"
      ]
     },
     "execution_count": 45,
     "metadata": {},
     "output_type": "execute_result"
    }
   ],
   "source": [
    "malicious_data.tail()"
   ]
  },
  {
   "cell_type": "code",
   "execution_count": 46,
   "metadata": {
    "colab": {
     "base_uri": "https://localhost:8080/"
    },
    "id": "M-Vz9onHFhMp",
    "outputId": "8bb6770d-c19c-41b4-c8ee-d96606d480b9"
   },
   "outputs": [
    {
     "name": "stdout",
     "output_type": "stream",
     "text": [
      "<class 'pandas.core.frame.DataFrame'>\n",
      "RangeIndex: 549346 entries, 0 to 549345\n",
      "Data columns (total 2 columns):\n",
      " #   Column  Non-Null Count   Dtype \n",
      "---  ------  --------------   ----- \n",
      " 0   URL     549346 non-null  object\n",
      " 1   Label   549346 non-null  object\n",
      "dtypes: object(2)\n",
      "memory usage: 8.4+ MB\n"
     ]
    }
   ],
   "source": [
    "malicious_data.info()"
   ]
  },
  {
   "cell_type": "code",
   "execution_count": 47,
   "metadata": {
    "colab": {
     "base_uri": "https://localhost:8080/"
    },
    "id": "wFRDfAR7FnLR",
    "outputId": "a18f794d-b7b9-44cd-c606-3878a8b0369d"
   },
   "outputs": [
    {
     "data": {
      "text/plain": [
       "URL      0\n",
       "Label    0\n",
       "dtype: int64"
      ]
     },
     "execution_count": 47,
     "metadata": {},
     "output_type": "execute_result"
    }
   ],
   "source": [
    "malicious_data.isnull().sum()"
   ]
  },
  {
   "cell_type": "code",
   "execution_count": 48,
   "metadata": {
    "id": "wkM7EehTFwoP"
   },
   "outputs": [],
   "source": [
    "## Data frame with classes counts\n",
    "label_counts = pd.DataFrame(malicious_data.Label.value_counts())"
   ]
  },
  {
   "cell_type": "code",
   "execution_count": 49,
   "metadata": {
    "colab": {
     "base_uri": "https://localhost:8080/",
     "height": 283
    },
    "id": "y2gWkVnqF-Fa",
    "outputId": "050a7d17-9145-4c87-92be-dd6f7c874dda"
   },
   "outputs": [
    {
     "data": {
      "text/plain": [
       "<AxesSubplot:ylabel='Label'>"
      ]
     },
     "execution_count": 49,
     "metadata": {},
     "output_type": "execute_result"
    },
    {
     "data": {
      "image/png": "[encoded data removed]",
      "text/plain": [
       "<Figure size 432x288 with 1 Axes>"
      ]
     },
     "metadata": {},
     "output_type": "display_data"
    }
   ],
   "source": [
    "## Visualizing the target column\n",
    "sns.set_style('whitegrid')\n",
    "sns.barplot(label_counts.index,label_counts.Label)"
   ]
  },
  {
   "cell_type": "markdown",
   "metadata": {
    "id": "lE2s6c-XGdy2"
   },
   "source": [
    "## Preprocessing Data"
   ]
  },
  {
   "cell_type": "code",
   "execution_count": 50,
   "metadata": {
    "id": "z_j7VO2cGXdH"
   },
   "outputs": [],
   "source": [
    "tokenizer = RegexpTokenizer(r'[A-Za-z]+')"
   ]
  },
  {
   "cell_type": "markdown",
   "metadata": {
    "id": "Bzrvrj2wHDuh"
   },
   "source": [
    "### Tokenizing the words"
   ]
  },
  {
   "cell_type": "code",
   "execution_count": 51,
   "metadata": {
    "id": "UaifoqgNG0wb"
   },
   "outputs": [],
   "source": [
    "malicious_data['text_tokenized'] = malicious_data.URL.map(lambda t: tokenizer.tokenize(t)) "
   ]
  },
  {
   "cell_type": "markdown",
   "metadata": {
    "id": "b89b-geeIbjq"
   },
   "source": [
    "### Now words are getting stemmed"
   ]
  },
  {
   "cell_type": "code",
   "execution_count": 52,
   "metadata": {
    "id": "dH9D0JizINgn"
   },
   "outputs": [],
   "source": [
    "stemmer = SnowballStemmer(\"english\")"
   ]
  },
  {
   "cell_type": "code",
   "execution_count": 53,
   "metadata": {
    "id": "PaYZ0S6pIY3d"
   },
   "outputs": [],
   "source": [
    "malicious_data['text_stemmed'] = malicious_data['text_tokenized'].map(lambda l: [stemmer.stem(word) for word in l])"
   ]
  },
  {
   "cell_type": "markdown",
   "metadata": {
    "id": "7a1P1ja4LK68"
   },
   "source": [
    "### Getting Joining Words"
   ]
  },
  {
   "cell_type": "code",
   "execution_count": 54,
   "metadata": {
    "id": "KIL0zBIXIlIQ"
   },
   "outputs": [],
   "source": [
    "malicious_data['text_sent'] = malicious_data['text_stemmed'].map(lambda l: ' '.join(l))"
   ]
  },
  {
   "cell_type": "markdown",
   "metadata": {
    "id": "jLXFxSJ4LX8Q"
   },
   "source": [
    "### Sample Data after preprocessing "
   ]
  },
  {
   "cell_type": "code",
   "execution_count": 55,
   "metadata": {
    "colab": {
     "base_uri": "https://localhost:8080/",
     "height": 580
    },
    "id": "8LzIilJRLVEa",
    "outputId": "37036b2c-6342-402a-dfb6-2c68a2d5dbc2"
   },
   "outputs": [
    {
     "data": {
      "text/html": [
       "<div>\n",
       "<style scoped>\n",
       "    .dataframe tbody tr th:only-of-type {\n",
       "        vertical-align: middle;\n",
       "    }\n",
       "\n",
       "    .dataframe tbody tr th {\n",
       "        vertical-align: top;\n",
       "    }\n",
       "\n",
       "    .dataframe thead th {\n",
       "        text-align: right;\n",
       "    }\n",
       "</style>\n",
       "<table border=\"1\" class=\"dataframe\">\n",
       "  <thead>\n",
       "    <tr style=\"text-align: right;\">\n",
       "      <th></th>\n",
       "      <th>URL</th>\n",
       "      <th>Label</th>\n",
       "      <th>text_tokenized</th>\n",
       "      <th>text_stemmed</th>\n",
       "      <th>text_sent</th>\n",
       "    </tr>\n",
       "  </thead>\n",
       "  <tbody>\n",
       "    <tr>\n",
       "      <th>62953</th>\n",
       "      <td>www.renesas.com/products/mpumcu/superh/superh_...</td>\n",
       "      <td>good</td>\n",
       "      <td>[www, renesas, com, products, mpumcu, superh, ...</td>\n",
       "      <td>[www, renesa, com, product, mpumcu, superh, su...</td>\n",
       "      <td>www renesa com product mpumcu superh superh la...</td>\n",
       "    </tr>\n",
       "    <tr>\n",
       "      <th>181353</th>\n",
       "      <td>en.wikipedia.org/wiki/The_Stewart_Copeland_Ant...</td>\n",
       "      <td>good</td>\n",
       "      <td>[en, wikipedia, org, wiki, The, Stewart, Copel...</td>\n",
       "      <td>[en, wikipedia, org, wiki, the, stewart, copel...</td>\n",
       "      <td>en wikipedia org wiki the stewart copeland ant...</td>\n",
       "    </tr>\n",
       "    <tr>\n",
       "      <th>453445</th>\n",
       "      <td>tvguide.com/celebrities/casey-stengel/226204</td>\n",
       "      <td>good</td>\n",
       "      <td>[tvguide, com, celebrities, casey, stengel]</td>\n",
       "      <td>[tvguid, com, celebr, casey, stengel]</td>\n",
       "      <td>tvguid com celebr casey stengel</td>\n",
       "    </tr>\n",
       "    <tr>\n",
       "      <th>235072</th>\n",
       "      <td>rideact.blogspot.com/2009/10/gm-announces-sepa...</td>\n",
       "      <td>good</td>\n",
       "      <td>[rideact, blogspot, com, gm, announces, separa...</td>\n",
       "      <td>[rideact, blogspot, com, gm, announc, separ, f...</td>\n",
       "      <td>rideact blogspot com gm announc separ from ac ...</td>\n",
       "    </tr>\n",
       "    <tr>\n",
       "      <th>524745</th>\n",
       "      <td>98.181.17.39/ase5.png</td>\n",
       "      <td>bad</td>\n",
       "      <td>[ase, png]</td>\n",
       "      <td>[ase, png]</td>\n",
       "      <td>ase png</td>\n",
       "    </tr>\n",
       "    <tr>\n",
       "      <th>129264</th>\n",
       "      <td>tinywws.com/file/FLS/db/file.DRB/index.php</td>\n",
       "      <td>bad</td>\n",
       "      <td>[tinywws, com, file, FLS, db, file, DRB, index...</td>\n",
       "      <td>[tinyww, com, file, fls, db, file, drb, index,...</td>\n",
       "      <td>tinyww com file fls db file drb index php</td>\n",
       "    </tr>\n",
       "    <tr>\n",
       "      <th>316393</th>\n",
       "      <td>dodgehousehotel.com/mural-history.html</td>\n",
       "      <td>good</td>\n",
       "      <td>[dodgehousehotel, com, mural, history, html]</td>\n",
       "      <td>[dodgehousehotel, com, mural, histori, html]</td>\n",
       "      <td>dodgehousehotel com mural histori html</td>\n",
       "    </tr>\n",
       "    <tr>\n",
       "      <th>29482</th>\n",
       "      <td>pay-pai.help.sec.us-login-cgi.bin.resolution.c...</td>\n",
       "      <td>bad</td>\n",
       "      <td>[pay, pai, help, sec, us, login, cgi, bin, res...</td>\n",
       "      <td>[pay, pai, help, sec, us, login, cgi, bin, res...</td>\n",
       "      <td>pay pai help sec us login cgi bin resolut cent...</td>\n",
       "    </tr>\n",
       "    <tr>\n",
       "      <th>88228</th>\n",
       "      <td>www.dummysoftware.com/imagegrabdummy.html</td>\n",
       "      <td>good</td>\n",
       "      <td>[www, dummysoftware, com, imagegrabdummy, html]</td>\n",
       "      <td>[www, dummysoftwar, com, imagegrabdummi, html]</td>\n",
       "      <td>www dummysoftwar com imagegrabdummi html</td>\n",
       "    </tr>\n",
       "    <tr>\n",
       "      <th>331582</th>\n",
       "      <td>facebook.com/people/Elsie-Lefebvre/678181880</td>\n",
       "      <td>good</td>\n",
       "      <td>[facebook, com, people, Elsie, Lefebvre]</td>\n",
       "      <td>[facebook, com, peopl, elsi, lefebvr]</td>\n",
       "      <td>facebook com peopl elsi lefebvr</td>\n",
       "    </tr>\n",
       "  </tbody>\n",
       "</table>\n",
       "</div>"
      ],
      "text/plain": [
       "                                                      URL Label  \\\n",
       "62953   www.renesas.com/products/mpumcu/superh/superh_...  good   \n",
       "181353  en.wikipedia.org/wiki/The_Stewart_Copeland_Ant...  good   \n",
       "453445       tvguide.com/celebrities/casey-stengel/226204  good   \n",
       "235072  rideact.blogspot.com/2009/10/gm-announces-sepa...  good   \n",
       "524745                              98.181.17.39/ase5.png   bad   \n",
       "129264         tinywws.com/file/FLS/db/file.DRB/index.php   bad   \n",
       "316393             dodgehousehotel.com/mural-history.html  good   \n",
       "29482   pay-pai.help.sec.us-login-cgi.bin.resolution.c...   bad   \n",
       "88228           www.dummysoftware.com/imagegrabdummy.html  good   \n",
       "331582       facebook.com/people/Elsie-Lefebvre/678181880  good   \n",
       "\n",
       "                                           text_tokenized  \\\n",
       "62953   [www, renesas, com, products, mpumcu, superh, ...   \n",
       "181353  [en, wikipedia, org, wiki, The, Stewart, Copel...   \n",
       "453445        [tvguide, com, celebrities, casey, stengel]   \n",
       "235072  [rideact, blogspot, com, gm, announces, separa...   \n",
       "524745                                         [ase, png]   \n",
       "129264  [tinywws, com, file, FLS, db, file, DRB, index...   \n",
       "316393       [dodgehousehotel, com, mural, history, html]   \n",
       "29482   [pay, pai, help, sec, us, login, cgi, bin, res...   \n",
       "88228     [www, dummysoftware, com, imagegrabdummy, html]   \n",
       "331582           [facebook, com, people, Elsie, Lefebvre]   \n",
       "\n",
       "                                             text_stemmed  \\\n",
       "62953   [www, renesa, com, product, mpumcu, superh, su...   \n",
       "181353  [en, wikipedia, org, wiki, the, stewart, copel...   \n",
       "453445              [tvguid, com, celebr, casey, stengel]   \n",
       "235072  [rideact, blogspot, com, gm, announc, separ, f...   \n",
       "524745                                         [ase, png]   \n",
       "129264  [tinyww, com, file, fls, db, file, drb, index,...   \n",
       "316393       [dodgehousehotel, com, mural, histori, html]   \n",
       "29482   [pay, pai, help, sec, us, login, cgi, bin, res...   \n",
       "88228      [www, dummysoftwar, com, imagegrabdummi, html]   \n",
       "331582              [facebook, com, peopl, elsi, lefebvr]   \n",
       "\n",
       "                                                text_sent  \n",
       "62953   www renesa com product mpumcu superh superh la...  \n",
       "181353  en wikipedia org wiki the stewart copeland ant...  \n",
       "453445                    tvguid com celebr casey stengel  \n",
       "235072  rideact blogspot com gm announc separ from ac ...  \n",
       "524745                                            ase png  \n",
       "129264          tinyww com file fls db file drb index php  \n",
       "316393             dodgehousehotel com mural histori html  \n",
       "29482   pay pai help sec us login cgi bin resolut cent...  \n",
       "88228            www dummysoftwar com imagegrabdummi html  \n",
       "331582                    facebook com peopl elsi lefebvr  "
      ]
     },
     "execution_count": 55,
     "metadata": {},
     "output_type": "execute_result"
    }
   ],
   "source": [
    "malicious_data.sample(10)"
   ]
  },
  {
   "cell_type": "markdown",
   "metadata": {
    "id": "qIlhKKhvM9pE"
   },
   "source": [
    "## Creating Model"
   ]
  },
  {
   "cell_type": "code",
   "execution_count": 56,
   "metadata": {
    "id": "UZAQmsTbLhmU"
   },
   "outputs": [],
   "source": [
    "cv = CountVectorizer()"
   ]
  },
  {
   "cell_type": "code",
   "execution_count": 57,
   "metadata": {
    "id": "6l1omcFDZfJt"
   },
   "outputs": [],
   "source": [
    "feature = cv.fit_transform(malicious_data.text_sent)"
   ]
  },
  {
   "cell_type": "code",
   "execution_count": 58,
   "metadata": {
    "colab": {
     "base_uri": "https://localhost:8080/"
    },
    "id": "rUNkANyzW__6",
    "outputId": "01b696ab-4986-4e43-b691-0a23110d8b28"
   },
   "outputs": [
    {
     "data": {
      "text/plain": [
       "0         bad\n",
       "1         bad\n",
       "2         bad\n",
       "3         bad\n",
       "4         bad\n",
       "         ... \n",
       "549341    bad\n",
       "549342    bad\n",
       "549343    bad\n",
       "549344    bad\n",
       "549345    bad\n",
       "Name: Label, Length: 549346, dtype: object"
      ]
     },
     "execution_count": 58,
     "metadata": {},
     "output_type": "execute_result"
    }
   ],
   "source": [
    "malicious_data.Label"
   ]
  },
  {
   "cell_type": "code",
   "execution_count": 59,
   "metadata": {
    "colab": {
     "base_uri": "https://localhost:8080/"
    },
    "id": "bljYsa7qNSAr",
    "outputId": "65ebf62c-14cd-4d8b-eecb-a0c8024ce997"
   },
   "outputs": [
    {
     "data": {
      "text/plain": [
       "array([[0, 0, 0, ..., 0, 0, 0],\n",
       "       [0, 0, 0, ..., 0, 0, 0],\n",
       "       [0, 0, 0, ..., 0, 0, 0],\n",
       "       [0, 0, 0, ..., 0, 0, 0],\n",
       "       [0, 0, 0, ..., 0, 0, 0]], dtype=int64)"
      ]
     },
     "execution_count": 59,
     "metadata": {},
     "output_type": "execute_result"
    }
   ],
   "source": [
    "feature[:5].toarray()"
   ]
  },
  {
   "cell_type": "code",
   "execution_count": 60,
   "metadata": {
    "id": "eKnZPCnzNY7D"
   },
   "outputs": [],
   "source": [
    "trainX, testX, trainY, testY = train_test_split(feature, malicious_data.Label)"
   ]
  },
  {
   "cell_type": "markdown",
   "metadata": {
    "id": "zWL-4LuyNkiJ"
   },
   "source": [
    "## Creting Logistic Regression: Machine Learning Algorithm \n",
    "\n"
   ]
  },
  {
   "cell_type": "code",
   "execution_count": 61,
   "metadata": {
    "colab": {
     "base_uri": "https://localhost:8080/",
     "height": 74
    },
    "id": "nxHgCVHhNgED",
    "outputId": "22a9c4c4-82ab-46e3-8e5c-adc675d55748"
   },
   "outputs": [
    {
     "data": {
      "text/plain": [
       "LogisticRegression()"
      ]
     },
     "execution_count": 61,
     "metadata": {},
     "output_type": "execute_result"
    }
   ],
   "source": [
    "lr = LogisticRegression()\n",
    "lr.fit(trainX,trainY)"
   ]
  },
  {
   "cell_type": "code",
   "execution_count": 62,
   "metadata": {
    "colab": {
     "base_uri": "https://localhost:8080/"
    },
    "id": "DlfSmgUuNyoB",
    "outputId": "39790a72-f553-4dea-d905-c8bf78a6ba41"
   },
   "outputs": [
    {
     "data": {
      "text/plain": [
       "0.9639863984214013"
      ]
     },
     "execution_count": 62,
     "metadata": {},
     "output_type": "execute_result"
    }
   ],
   "source": [
    "lr.score(testX,testY)"
   ]
  },
  {
   "cell_type": "code",
   "execution_count": 63,
   "metadata": {
    "id": "mn8FquPNOTiK"
   },
   "outputs": [],
   "source": [
    "Scores_ml = {}\n",
    "Scores_ml['Logistic Regression'] = np.round(lr.score(testX,testY),2)"
   ]
  },
  {
   "cell_type": "code",
   "execution_count": 64,
   "metadata": {
    "colab": {
     "base_uri": "https://localhost:8080/",
     "height": 574
    },
    "id": "qLi3UGKqPVxg",
    "outputId": "52d2342b-6c39-4a02-b892-32ce6a23877e"
   },
   "outputs": [
    {
     "name": "stdout",
     "output_type": "stream",
     "text": [
      "Training Accuracy : 0.9782164952707344\n",
      "Testing Accuracy : 0.9639863984214013\n",
      "\n",
      "CLASSIFICATION REPORT\n",
      "\n",
      "              precision    recall  f1-score   support\n",
      "\n",
      "         Bad       0.90      0.97      0.93     36499\n",
      "        Good       0.99      0.96      0.98    100838\n",
      "\n",
      "    accuracy                           0.96    137337\n",
      "   macro avg       0.95      0.97      0.95    137337\n",
      "weighted avg       0.97      0.96      0.96    137337\n",
      "\n",
      "\n",
      "CONFUSION MATRIX\n"
     ]
    },
    {
     "data": {
      "text/plain": [
       "<AxesSubplot:>"
      ]
     },
     "execution_count": 64,
     "metadata": {},
     "output_type": "execute_result"
    },
    {
     "data": {
      "image/png": "[encoded data removed]",
      "text/plain": [
       "<Figure size 432x288 with 2 Axes>"
      ]
     },
     "metadata": {},
     "output_type": "display_data"
    }
   ],
   "source": [
    "print('Training Accuracy :',lr.score(trainX,trainY))\n",
    "print('Testing Accuracy :',lr.score(testX,testY))\n",
    "con_mat = pd.DataFrame(confusion_matrix(lr.predict(testX), testY),\n",
    "            columns = ['Predicted:Bad', 'Predicted:Good'],\n",
    "            index = ['Actual:Bad', 'Actual:Good'])\n",
    "\n",
    "\n",
    "print('\\nCLASSIFICATION REPORT\\n')\n",
    "print(classification_report(lr.predict(testX), testY,\n",
    "                            target_names =['Bad','Good']))\n",
    "\n",
    "print('\\nCONFUSION MATRIX')\n",
    "plt.figure(figsize= (6,4))\n",
    "sns.heatmap(con_mat, annot = True,fmt='d',cmap=\"YlGnBu\")\n"
   ]
  },
  {
   "cell_type": "markdown",
   "metadata": {
    "id": "Qu_OuiVlP2EL"
   },
   "source": [
    "## Multinomial Naive Bayes"
   ]
  },
  {
   "cell_type": "code",
   "execution_count": 65,
   "metadata": {
    "colab": {
     "base_uri": "https://localhost:8080/",
     "height": 74
    },
    "id": "IxAdKF1WPZwy",
    "outputId": "354f3b5e-c2ab-4c2e-de44-b223e7d4b51b"
   },
   "outputs": [
    {
     "data": {
      "text/plain": [
       "MultinomialNB()"
      ]
     },
     "execution_count": 65,
     "metadata": {},
     "output_type": "execute_result"
    }
   ],
   "source": [
    "mnb = MultinomialNB()\n",
    "mnb.fit(trainX,trainY)"
   ]
  },
  {
   "cell_type": "code",
   "execution_count": 66,
   "metadata": {
    "colab": {
     "base_uri": "https://localhost:8080/"
    },
    "id": "jtG7npj9QEjo",
    "outputId": "d5faac52-4f1c-40e3-8ed3-babe49ce766f"
   },
   "outputs": [
    {
     "data": {
      "text/plain": [
       "0.9578336500724495"
      ]
     },
     "execution_count": 66,
     "metadata": {},
     "output_type": "execute_result"
    }
   ],
   "source": [
    "mnb.score(testX,testY)"
   ]
  },
  {
   "cell_type": "code",
   "execution_count": 67,
   "metadata": {
    "id": "SaIJuYbWQKXZ"
   },
   "outputs": [],
   "source": [
    "Scores_ml['MultinomialNB'] = np.round(mnb.score(testX,testY),2)"
   ]
  },
  {
   "cell_type": "code",
   "execution_count": 68,
   "metadata": {
    "colab": {
     "base_uri": "https://localhost:8080/",
     "height": 574
    },
    "id": "gwCkP8yuQOda",
    "outputId": "1470d6b5-b912-4616-9835-408ff1c37a14"
   },
   "outputs": [
    {
     "name": "stdout",
     "output_type": "stream",
     "text": [
      "Training Accuracy : 0.9741073617323893\n",
      "Testing Accuracy : 0.9578336500724495\n",
      "\n",
      "CLASSIFICATION REPORT\n",
      "\n",
      "              precision    recall  f1-score   support\n",
      "\n",
      "         Bad       0.91      0.94      0.92     38058\n",
      "        Good       0.98      0.97      0.97     99279\n",
      "\n",
      "    accuracy                           0.96    137337\n",
      "   macro avg       0.94      0.95      0.95    137337\n",
      "weighted avg       0.96      0.96      0.96    137337\n",
      "\n",
      "\n",
      "CONFUSION MATRIX\n"
     ]
    },
    {
     "data": {
      "text/plain": [
       "<AxesSubplot:>"
      ]
     },
     "execution_count": 68,
     "metadata": {},
     "output_type": "execute_result"
    },
    {
     "data": {
      "image/png": "[encoded data removed]",
      "text/plain": [
       "<Figure size 432x288 with 2 Axes>"
      ]
     },
     "metadata": {},
     "output_type": "display_data"
    }
   ],
   "source": [
    "print('Training Accuracy :',mnb.score(trainX,trainY))\n",
    "print('Testing Accuracy :',mnb.score(testX,testY))\n",
    "con_mat = pd.DataFrame(confusion_matrix(mnb.predict(testX), testY),\n",
    "            columns = ['Predicted:Bad', 'Predicted:Good'],\n",
    "            index = ['Actual:Bad', 'Actual:Good'])\n",
    "\n",
    "\n",
    "print('\\nCLASSIFICATION REPORT\\n')\n",
    "print(classification_report(mnb.predict(testX), testY,\n",
    "                            target_names =['Bad','Good']))\n",
    "\n",
    "print('\\nCONFUSION MATRIX')\n",
    "plt.figure(figsize= (6,4))\n",
    "sns.heatmap(con_mat, annot = True,fmt='d',cmap=\"YlGnBu\")\n"
   ]
  },
  {
   "cell_type": "code",
   "execution_count": 69,
   "metadata": {
    "colab": {
     "base_uri": "https://localhost:8080/",
     "height": 286
    },
    "id": "Em022MvKQS57",
    "outputId": "9d9271e5-66d3-4e69-83a1-bdc9a0bcecc9"
   },
   "outputs": [
    {
     "data": {
      "text/plain": [
       "<AxesSubplot:ylabel='Accuracy'>"
      ]
     },
     "execution_count": 69,
     "metadata": {},
     "output_type": "execute_result"
    },
    {
     "data": {
      "image/png": "[encoded data removed]",
      "text/plain": [
       "<Figure size 432x288 with 1 Axes>"
      ]
     },
     "metadata": {},
     "output_type": "display_data"
    }
   ],
   "source": [
    "acc = pd.DataFrame.from_dict(Scores_ml,orient = 'index',columns=['Accuracy'])\n",
    "sns.set_style('whitegrid')\n",
    "sns.barplot(acc.index,acc.Accuracy)"
   ]
  },
  {
   "cell_type": "markdown",
   "metadata": {
    "id": "7SlkVz6PRMoS"
   },
   "source": [
    "### From above graph we understood Logistic Regression gives slightly more accuracy"
   ]
  },
  {
   "cell_type": "code",
   "execution_count": 70,
   "metadata": {
    "id": "tNkbYMUPRDBk"
   },
   "outputs": [],
   "source": [
    "pipeline_ls = make_pipeline(CountVectorizer(tokenizer = RegexpTokenizer(r'[A-Za-z]+').tokenize,stop_words='english'), LogisticRegression())\n",
    "##(r'\\b(?:http|ftp)s?://\\S*\\w|\\w+|[^\\w\\s]+') ([a-zA-Z]+)([0-9]+) -- these tolenizers giving me low accuray "
   ]
  },
  {
   "cell_type": "code",
   "execution_count": 71,
   "metadata": {
    "id": "4x0xN3mlRYy9"
   },
   "outputs": [],
   "source": [
    "trainX, testX, trainY, testY = train_test_split(malicious_data.URL, malicious_data.Label)"
   ]
  },
  {
   "cell_type": "code",
   "execution_count": 72,
   "metadata": {
    "colab": {
     "base_uri": "https://localhost:8080/",
     "height": 260
    },
    "id": "aa5Rbtn6RbPD",
    "outputId": "00d4b116-835c-4de1-93c0-1fc474f31fc8"
   },
   "outputs": [
    {
     "data": {
      "text/plain": [
       "Pipeline(steps=[('countvectorizer',\n",
       "                 CountVectorizer(stop_words='english',\n",
       "                                 tokenizer=<bound method RegexpTokenizer.tokenize of RegexpTokenizer(pattern='[A-Za-z]+', gaps=False, discard_empty=True, flags=re.UNICODE|re.MULTILINE|re.DOTALL)>)),\n",
       "                ('logisticregression', LogisticRegression())])"
      ]
     },
     "execution_count": 72,
     "metadata": {},
     "output_type": "execute_result"
    }
   ],
   "source": [
    "pipeline_ls.fit(trainX,trainY)"
   ]
  },
  {
   "cell_type": "code",
   "execution_count": 73,
   "metadata": {
    "colab": {
     "base_uri": "https://localhost:8080/"
    },
    "id": "5-As_hkDR2uN",
    "outputId": "38c6350f-6e97-4fd9-a298-d3ffa00f0316"
   },
   "outputs": [
    {
     "data": {
      "text/plain": [
       "0.9651951040142133"
      ]
     },
     "execution_count": 73,
     "metadata": {},
     "output_type": "execute_result"
    }
   ],
   "source": [
    "pipeline_ls.score(testX,testY)"
   ]
  },
  {
   "cell_type": "code",
   "execution_count": 74,
   "metadata": {
    "colab": {
     "base_uri": "https://localhost:8080/",
     "height": 574
    },
    "id": "WK3xBRUHSC2l",
    "outputId": "d1aa17b7-8063-433b-fac5-50f5fdd8b318"
   },
   "outputs": [
    {
     "name": "stdout",
     "output_type": "stream",
     "text": [
      "Training Accuracy : 0.9788815292869816\n",
      "Testing Accuracy : 0.9651951040142133\n",
      "\n",
      "CLASSIFICATION REPORT\n",
      "\n",
      "              precision    recall  f1-score   support\n",
      "\n",
      "         Bad       0.91      0.97      0.94     36772\n",
      "        Good       0.99      0.96      0.98    100565\n",
      "\n",
      "    accuracy                           0.97    137337\n",
      "   macro avg       0.95      0.97      0.96    137337\n",
      "weighted avg       0.97      0.97      0.97    137337\n",
      "\n",
      "\n",
      "CONFUSION MATRIX\n"
     ]
    },
    {
     "data": {
      "text/plain": [
       "<AxesSubplot:>"
      ]
     },
     "execution_count": 74,
     "metadata": {},
     "output_type": "execute_result"
    },
    {
     "data": {
      "image/png": "[encoded data removed]",
      "text/plain": [
       "<Figure size 432x288 with 2 Axes>"
      ]
     },
     "metadata": {},
     "output_type": "display_data"
    }
   ],
   "source": [
    "print('Training Accuracy :',pipeline_ls.score(trainX,trainY))\n",
    "print('Testing Accuracy :',pipeline_ls.score(testX,testY))\n",
    "con_mat = pd.DataFrame(confusion_matrix(pipeline_ls.predict(testX), testY),\n",
    "            columns = ['Predicted:Bad', 'Predicted:Good'],\n",
    "            index = ['Actual:Bad', 'Actual:Good'])\n",
    "\n",
    "\n",
    "print('\\nCLASSIFICATION REPORT\\n')\n",
    "print(classification_report(pipeline_ls.predict(testX), testY,\n",
    "                            target_names =['Bad','Good']))\n",
    "\n",
    "print('\\nCONFUSION MATRIX')\n",
    "plt.figure(figsize= (6,4))\n",
    "sns.heatmap(con_mat, annot = True,fmt='d',cmap=\"YlGnBu\")"
   ]
  },
  {
   "cell_type": "markdown",
   "metadata": {},
   "source": [
    "## Saving the model"
   ]
  },
  {
   "cell_type": "code",
   "execution_count": 75,
   "metadata": {
    "colab": {
     "base_uri": "https://localhost:8080/"
    },
    "id": "RtjAx65ZSE5t",
    "outputId": "3f7817ab-5f21-4dab-c685-ec7cb38636cc"
   },
   "outputs": [
    {
     "data": {
      "text/plain": [
       "['malicious1.pkl']"
      ]
     },
     "execution_count": 75,
     "metadata": {},
     "output_type": "execute_result"
    }
   ],
   "source": [
    "pickle.dump(pipeline_ls,open('malicious.pkl','wb'))\n",
    "joblib.dump(lr,'malicious1.pkl')"
   ]
  },
  {
   "cell_type": "markdown",
   "metadata": {},
   "source": [
    "## Loading the model"
   ]
  },
  {
   "cell_type": "code",
   "execution_count": 2,
   "metadata": {
    "colab": {
     "base_uri": "https://localhost:8080/"
    },
    "id": "67lWTGVySKYT",
    "outputId": "0f74f612-8922-4682-fda1-5a55fad1d13a"
   },
   "outputs": [],
   "source": [
    "import pickle\n",
    "loaded_model = pickle.load(open('malicious.pkl', 'rb'))"
   ]
  },
  {
   "cell_type": "markdown",
   "metadata": {},
   "source": [
    "## Testing with sample data"
   ]
  },
  {
   "cell_type": "code",
   "execution_count": 4,
   "metadata": {
    "colab": {
     "base_uri": "https://localhost:8080/"
    },
    "id": "60HnCa_ITnpK",
    "outputId": "2c52a2a9-a356-441a-ffc9-934699078784"
   },
   "outputs": [
    {
     "name": "stdout",
     "output_type": "stream",
     "text": [
      "['good' 'bad' 'bad' 'bad']\n",
      "\n",
      "\n",
      "['bad' 'good' 'good' 'good']\n"
     ]
    }
   ],
   "source": [
    "predict1 = ['https://www.youtube.com','fazan-pacir.rs/temp/libraries/ipad','tubemoviez.exe','svision-online.de/mgfi/administrator/components/com_babackup/classes/fx29id1.txt']\n",
    "predict2 = ['http://testphp.vulnweb.com/login.php','youtube.com/watch?v=qI0TQJI3vdU','retailhellunderground.com/','restorevisioncenters.com/html/technology.html']\n",
    "loaded_model = pickle.load(open('malicious.pkl', 'rb'))\n",
    "\n",
    "result1 = loaded_model.predict(predict1)\n",
    "result2 = loaded_model.predict(predict2)\n",
    "\n",
    "print(result1)\n",
    "print(\"\\n\")\n",
    "print(result2)"
   ]
  },
  {
   "cell_type": "code",
   "execution_count": null,
   "metadata": {
    "id": "yVc7-XztfmHZ"
   },
   "outputs": [],
   "source": []
  }
 ],
 "metadata": {
  "colab": {
   "provenance": [],
   "toc_visible": true
  },
  "kernelspec": {
   "display_name": "Python 3 (ipykernel)",
   "language": "python",
   "name": "python3"
  },
  "language_info": {
   "codemirror_mode": {
    "name": "ipython",
    "version": 3
   },
   "file_extension": ".py",
   "mimetype": "text/x-python",
   "name": "python",
   "nbconvert_exporter": "python",
   "pygments_lexer": "ipython3",
   "version": "3.9.7"
  }
 },
 "nbformat": 4,
 "nbformat_minor": 1
}
